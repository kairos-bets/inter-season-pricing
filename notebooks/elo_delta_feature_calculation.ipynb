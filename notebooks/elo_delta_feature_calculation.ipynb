{
 "cells": [
  {
   "cell_type": "code",
   "execution_count": 1,
   "metadata": {},
   "outputs": [],
   "source": [
    "import pandas as pd\n",
    "import numpy as np"
   ]
  },
  {
   "cell_type": "code",
   "execution_count": 2,
   "metadata": {},
   "outputs": [],
   "source": [
    "df = pd.read_csv(\"../data/processed/test_match_logs_with_elos_20250528.csv\")"
   ]
  },
  {
   "cell_type": "code",
   "execution_count": 3,
   "metadata": {},
   "outputs": [
    {
     "data": {
      "text/plain": [
       "(np.int64(1698), 40485)"
      ]
     },
     "execution_count": 3,
     "metadata": {},
     "output_type": "execute_result"
    }
   ],
   "source": [
    "df[\"team_elo_from_club_elo\"].isna().sum(), len(df)"
   ]
  },
  {
   "cell_type": "code",
   "execution_count": 4,
   "metadata": {},
   "outputs": [
    {
     "data": {
      "text/html": [
       "<div>\n",
       "<style scoped>\n",
       "    .dataframe tbody tr th:only-of-type {\n",
       "        vertical-align: middle;\n",
       "    }\n",
       "\n",
       "    .dataframe tbody tr th {\n",
       "        vertical-align: top;\n",
       "    }\n",
       "\n",
       "    .dataframe thead th {\n",
       "        text-align: right;\n",
       "    }\n",
       "</style>\n",
       "<table border=\"1\" class=\"dataframe\">\n",
       "  <thead>\n",
       "    <tr style=\"text-align: right;\">\n",
       "      <th></th>\n",
       "      <th>date</th>\n",
       "      <th>dayofweek</th>\n",
       "      <th>round</th>\n",
       "      <th>venue</th>\n",
       "      <th>result</th>\n",
       "      <th>team</th>\n",
       "      <th>opponent</th>\n",
       "      <th>game_started</th>\n",
       "      <th>position</th>\n",
       "      <th>minutes</th>\n",
       "      <th>...</th>\n",
       "      <th>pens_conceded</th>\n",
       "      <th>transfer_id</th>\n",
       "      <th>transfer_date</th>\n",
       "      <th>from_club</th>\n",
       "      <th>to_club</th>\n",
       "      <th>is_post_transfer</th>\n",
       "      <th>is_pre_transfer</th>\n",
       "      <th>days_since_transfer</th>\n",
       "      <th>match_number_after_transfer</th>\n",
       "      <th>team_elo_from_club_elo</th>\n",
       "    </tr>\n",
       "  </thead>\n",
       "  <tbody>\n",
       "    <tr>\n",
       "      <th>611</th>\n",
       "      <td>2021-08-14</td>\n",
       "      <td>Sat</td>\n",
       "      <td>Matchweek 1</td>\n",
       "      <td>Away</td>\n",
       "      <td>L 1–5</td>\n",
       "      <td>Greuther Fürth</td>\n",
       "      <td>Stuttgart</td>\n",
       "      <td>N</td>\n",
       "      <td>CM</td>\n",
       "      <td>21.0</td>\n",
       "      <td>...</td>\n",
       "      <td>NaN</td>\n",
       "      <td>Adrian Fein_Bayern Munich_Greuther Fürth_2021-...</td>\n",
       "      <td>2021-07-14</td>\n",
       "      <td>Bayern Munich</td>\n",
       "      <td>Greuther Fürth</td>\n",
       "      <td>True</td>\n",
       "      <td>False</td>\n",
       "      <td>31</td>\n",
       "      <td>1</td>\n",
       "      <td>NaN</td>\n",
       "    </tr>\n",
       "    <tr>\n",
       "      <th>612</th>\n",
       "      <td>2021-08-21</td>\n",
       "      <td>Sat</td>\n",
       "      <td>Matchweek 2</td>\n",
       "      <td>Home</td>\n",
       "      <td>D 1–1</td>\n",
       "      <td>Greuther Fürth</td>\n",
       "      <td>Arminia</td>\n",
       "      <td>N</td>\n",
       "      <td>NaN</td>\n",
       "      <td>NaN</td>\n",
       "      <td>...</td>\n",
       "      <td>NaN</td>\n",
       "      <td>Adrian Fein_Bayern Munich_Greuther Fürth_2021-...</td>\n",
       "      <td>2021-07-14</td>\n",
       "      <td>Bayern Munich</td>\n",
       "      <td>Greuther Fürth</td>\n",
       "      <td>True</td>\n",
       "      <td>False</td>\n",
       "      <td>38</td>\n",
       "      <td>2</td>\n",
       "      <td>NaN</td>\n",
       "    </tr>\n",
       "    <tr>\n",
       "      <th>613</th>\n",
       "      <td>2021-08-28</td>\n",
       "      <td>Sat</td>\n",
       "      <td>Matchweek 3</td>\n",
       "      <td>Away</td>\n",
       "      <td>L 0–3</td>\n",
       "      <td>Greuther Fürth</td>\n",
       "      <td>Mainz 05</td>\n",
       "      <td>N</td>\n",
       "      <td>NaN</td>\n",
       "      <td>NaN</td>\n",
       "      <td>...</td>\n",
       "      <td>NaN</td>\n",
       "      <td>Adrian Fein_Bayern Munich_Greuther Fürth_2021-...</td>\n",
       "      <td>2021-07-14</td>\n",
       "      <td>Bayern Munich</td>\n",
       "      <td>Greuther Fürth</td>\n",
       "      <td>True</td>\n",
       "      <td>False</td>\n",
       "      <td>45</td>\n",
       "      <td>3</td>\n",
       "      <td>NaN</td>\n",
       "    </tr>\n",
       "    <tr>\n",
       "      <th>614</th>\n",
       "      <td>2021-09-11</td>\n",
       "      <td>Sat</td>\n",
       "      <td>Matchweek 4</td>\n",
       "      <td>Home</td>\n",
       "      <td>L 0–2</td>\n",
       "      <td>Greuther Fürth</td>\n",
       "      <td>Wolfsburg</td>\n",
       "      <td>N</td>\n",
       "      <td>NaN</td>\n",
       "      <td>NaN</td>\n",
       "      <td>...</td>\n",
       "      <td>NaN</td>\n",
       "      <td>Adrian Fein_Bayern Munich_Greuther Fürth_2021-...</td>\n",
       "      <td>2021-07-14</td>\n",
       "      <td>Bayern Munich</td>\n",
       "      <td>Greuther Fürth</td>\n",
       "      <td>True</td>\n",
       "      <td>False</td>\n",
       "      <td>59</td>\n",
       "      <td>4</td>\n",
       "      <td>NaN</td>\n",
       "    </tr>\n",
       "    <tr>\n",
       "      <th>615</th>\n",
       "      <td>2021-09-17</td>\n",
       "      <td>Fri</td>\n",
       "      <td>Matchweek 5</td>\n",
       "      <td>Away</td>\n",
       "      <td>L 1–2</td>\n",
       "      <td>Greuther Fürth</td>\n",
       "      <td>Hertha BSC</td>\n",
       "      <td>N</td>\n",
       "      <td>DM</td>\n",
       "      <td>3.0</td>\n",
       "      <td>...</td>\n",
       "      <td>NaN</td>\n",
       "      <td>Adrian Fein_Bayern Munich_Greuther Fürth_2021-...</td>\n",
       "      <td>2021-07-14</td>\n",
       "      <td>Bayern Munich</td>\n",
       "      <td>Greuther Fürth</td>\n",
       "      <td>True</td>\n",
       "      <td>False</td>\n",
       "      <td>65</td>\n",
       "      <td>5</td>\n",
       "      <td>NaN</td>\n",
       "    </tr>\n",
       "  </tbody>\n",
       "</table>\n",
       "<p>5 rows × 59 columns</p>\n",
       "</div>"
      ],
      "text/plain": [
       "           date dayofweek        round venue result            team  \\\n",
       "611  2021-08-14       Sat  Matchweek 1  Away  L 1–5  Greuther Fürth   \n",
       "612  2021-08-21       Sat  Matchweek 2  Home  D 1–1  Greuther Fürth   \n",
       "613  2021-08-28       Sat  Matchweek 3  Away  L 0–3  Greuther Fürth   \n",
       "614  2021-09-11       Sat  Matchweek 4  Home  L 0–2  Greuther Fürth   \n",
       "615  2021-09-17       Fri  Matchweek 5  Away  L 1–2  Greuther Fürth   \n",
       "\n",
       "       opponent game_started position  minutes  ...  pens_conceded  \\\n",
       "611   Stuttgart            N       CM     21.0  ...            NaN   \n",
       "612     Arminia            N      NaN      NaN  ...            NaN   \n",
       "613    Mainz 05            N      NaN      NaN  ...            NaN   \n",
       "614   Wolfsburg            N      NaN      NaN  ...            NaN   \n",
       "615  Hertha BSC            N       DM      3.0  ...            NaN   \n",
       "\n",
       "                                           transfer_id  transfer_date  \\\n",
       "611  Adrian Fein_Bayern Munich_Greuther Fürth_2021-...     2021-07-14   \n",
       "612  Adrian Fein_Bayern Munich_Greuther Fürth_2021-...     2021-07-14   \n",
       "613  Adrian Fein_Bayern Munich_Greuther Fürth_2021-...     2021-07-14   \n",
       "614  Adrian Fein_Bayern Munich_Greuther Fürth_2021-...     2021-07-14   \n",
       "615  Adrian Fein_Bayern Munich_Greuther Fürth_2021-...     2021-07-14   \n",
       "\n",
       "         from_club         to_club  is_post_transfer  is_pre_transfer  \\\n",
       "611  Bayern Munich  Greuther Fürth              True            False   \n",
       "612  Bayern Munich  Greuther Fürth              True            False   \n",
       "613  Bayern Munich  Greuther Fürth              True            False   \n",
       "614  Bayern Munich  Greuther Fürth              True            False   \n",
       "615  Bayern Munich  Greuther Fürth              True            False   \n",
       "\n",
       "     days_since_transfer  match_number_after_transfer  team_elo_from_club_elo  \n",
       "611                   31                            1                     NaN  \n",
       "612                   38                            2                     NaN  \n",
       "613                   45                            3                     NaN  \n",
       "614                   59                            4                     NaN  \n",
       "615                   65                            5                     NaN  \n",
       "\n",
       "[5 rows x 59 columns]"
      ]
     },
     "execution_count": 4,
     "metadata": {},
     "output_type": "execute_result"
    }
   ],
   "source": [
    "df[df[\"team_elo_from_club_elo\"].isna()].head()"
   ]
  },
  {
   "cell_type": "code",
   "execution_count": 5,
   "metadata": {},
   "outputs": [
    {
     "data": {
      "text/plain": [
       "array(['Greuther Fürth', 'Spartak Moscow', 'Real Sociedad',\n",
       "       'Saint-Étienne', 'Portimonense', 'Köln', 'Chaves', 'Vitesse',\n",
       "       'FC Copenhagen', 'Benevento', 'Dijon', 'Vizela', 'Ankaragücü'],\n",
       "      dtype=object)"
      ]
     },
     "execution_count": 5,
     "metadata": {},
     "output_type": "execute_result"
    }
   ],
   "source": [
    "df[df[\"team_elo_from_club_elo\"].isna()][\"team\"].unique()"
   ]
  },
  {
   "cell_type": "code",
   "execution_count": 6,
   "metadata": {},
   "outputs": [],
   "source": [
    "def calculate_elo_delta_feature(df: pd.DataFrame) -> pd.DataFrame:\n",
    "    \"\"\"\n",
    "    Function to calculate the elo delta feature. This feature is the difference between\n",
    "    the current team elo for post-transfer matches and the last team elo from the club elo\n",
    "    prior to the transfer.\n",
    "    \"\"\"\n",
    "    \n",
    "    df = df.copy()\n",
    "    df['delta_elo_post_transfer'] = np.nan\n",
    "    \n",
    "    # Group by transfer_id to process each transfer separately\n",
    "    for transfer_id, transfer_group in df.groupby('transfer_id'):\n",
    "        transfer_group_sorted = transfer_group.sort_values('date')\n",
    "        pre_transfer_rows = transfer_group_sorted[\n",
    "            (transfer_group_sorted['is_pre_transfer']) & \n",
    "            (transfer_group_sorted['team_elo_from_club_elo'].notna())\n",
    "        ]\n",
    "        if len(pre_transfer_rows) > 0:\n",
    "            # Get the last pre-transfer elo value (chronologically last)\n",
    "            last_pre_transfer_elo = pre_transfer_rows['team_elo_from_club_elo'].iloc[-1]\n",
    "            # Calculate delta for post-transfer rows with non-null elo values\n",
    "            post_transfer_mask = (\n",
    "                (df['transfer_id'] == transfer_id) & \n",
    "                (df['is_post_transfer']) &\n",
    "                (df['team_elo_from_club_elo'].notna())\n",
    "            )\n",
    "            df.loc[post_transfer_mask, 'delta_elo_post_transfer'] = (\n",
    "                df.loc[post_transfer_mask, 'team_elo_from_club_elo'] - last_pre_transfer_elo\n",
    "            )\n",
    "    return df"
   ]
  },
  {
   "cell_type": "code",
   "execution_count": 7,
   "metadata": {},
   "outputs": [],
   "source": [
    "df = calculate_elo_delta_feature(df)"
   ]
  },
  {
   "cell_type": "code",
   "execution_count": 9,
   "metadata": {},
   "outputs": [
    {
     "data": {
      "text/plain": [
       "(np.int64(6640), np.int64(24120))"
      ]
     },
     "execution_count": 9,
     "metadata": {},
     "output_type": "execute_result"
    }
   ],
   "source": [
    "df[\"delta_elo_post_transfer\"].notna().sum(), df[\"is_post_transfer\"].sum()"
   ]
  },
  {
   "cell_type": "code",
   "execution_count": null,
   "metadata": {},
   "outputs": [],
   "source": []
  }
 ],
 "metadata": {
  "kernelspec": {
   "display_name": "pricing",
   "language": "python",
   "name": "python3"
  },
  "language_info": {
   "codemirror_mode": {
    "name": "ipython",
    "version": 3
   },
   "file_extension": ".py",
   "mimetype": "text/x-python",
   "name": "python",
   "nbconvert_exporter": "python",
   "pygments_lexer": "ipython3",
   "version": "3.10.16"
  }
 },
 "nbformat": 4,
 "nbformat_minor": 2
}
