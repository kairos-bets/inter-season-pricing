{
 "cells": [
  {
   "cell_type": "code",
   "execution_count": 169,
   "metadata": {},
   "outputs": [],
   "source": [
    "import pandas as pd\n",
    "import numpy as np"
   ]
  },
  {
   "cell_type": "code",
   "execution_count": 183,
   "metadata": {},
   "outputs": [],
   "source": [
    "df = pd.read_csv(\"test_match_logs_with_elos_20250606.csv\")\n",
    "df_odds_test = pd.read_csv(\"df_test_cleaned.csv\")"
   ]
  },
  {
   "cell_type": "code",
   "execution_count": 198,
   "metadata": {},
   "outputs": [
    {
     "data": {
      "text/plain": [
       "59461"
      ]
     },
     "execution_count": 198,
     "metadata": {},
     "output_type": "execute_result"
    }
   ],
   "source": [
    "len(df)"
   ]
  },
  {
   "cell_type": "code",
   "execution_count": 185,
   "metadata": {},
   "outputs": [
    {
     "data": {
      "text/plain": [
       "Index(['date', 'round', 'game_started', 'position', 'passes', 'player_name',\n",
       "       'league', 'is_post_transfer_match', 'opponent_strength',\n",
       "       'opponent_defensive_strength', 'team_offensive_strength_last_3',\n",
       "       'opponent_defensive_strength_last_3', 'team_offensive_strength_last_5',\n",
       "       'opponent_defensive_strength_last_5', 'is_home_next_game',\n",
       "       'target_scored_next_game', 'next_game_date', 'strength_diff_next_game',\n",
       "       'team_offensive_strength_next_game', 'team_strength_next_game',\n",
       "       'team_elo_next_game', 'team_offensive_strength_last_3_next_game',\n",
       "       'team_offensive_strength_last_5_next_game',\n",
       "       'opponent_defensive_strength_next_game', 'opponent_strength_next_game',\n",
       "       'opponent_elo_next_game',\n",
       "       'opponent_defensive_strength_last_3_next_game',\n",
       "       'opponent_defensive_strength_last_5_next_game',\n",
       "       'offensive_defensive_multiply_next_game',\n",
       "       'offensive_defensive_multiply_last_3_next_game',\n",
       "       'offensive_defensive_multiply_last_5_next_game', 'game_in_season',\n",
       "       'goals_per_90', 'scoring_rate', 'avg_goals_last_3', 'goals_streak_3',\n",
       "       'avg_g_per_90_last_3', 'diff_efficiency_3', 'avg_shots_3',\n",
       "       'avg_shots_on_target_3', 'average_minutes_last_3', 'avg_xg_last_3',\n",
       "       'xg_efficiency_last_3', 'avg_progressive_carries_3', 'avg_take_ons_3',\n",
       "       'avg_passes_3', 'avg_passes_completed_3', 'avg_progressive_passes_3',\n",
       "       'avg_touches_3', 'efficiency_last_3', 'avg_goals_last_5',\n",
       "       'goals_streak_5', 'avg_g_per_90_last_5', 'diff_efficiency_5',\n",
       "       'avg_shots_5', 'avg_shots_on_target_5', 'average_minutes_last_5',\n",
       "       'avg_xg_last_5', 'xg_efficiency_last_5', 'avg_progressive_carries_5'],\n",
       "      dtype='object')"
      ]
     },
     "execution_count": 185,
     "metadata": {},
     "output_type": "execute_result"
    }
   ],
   "source": [
    "df_odds_test.columns[:60]"
   ]
  },
  {
   "cell_type": "code",
   "execution_count": 199,
   "metadata": {},
   "outputs": [],
   "source": [
    "def calculate_elo_delta_feature(df: pd.DataFrame) -> pd.DataFrame:\n",
    "    \"\"\"\n",
    "    Function to calculate the elo delta feature. This feature is the difference between\n",
    "    the current team elo for post-transfer matches and the last team elo from the club elo\n",
    "    prior to the transfer.\n",
    "    \"\"\"\n",
    "    \n",
    "    df = df.copy()\n",
    "    df['delta_elo_post_transfer'] = np.nan\n",
    "    \n",
    "    # Group by transfer_id to process each transfer separately\n",
    "    for transfer_id, transfer_group in df.groupby('transfer_id'):\n",
    "        transfer_group_sorted = transfer_group.sort_values('date')\n",
    "        pre_transfer_rows = transfer_group_sorted[\n",
    "            (transfer_group_sorted['is_pre_transfer']) & \n",
    "            (transfer_group_sorted['team_elo_from_club_elo'].notna())\n",
    "        ]\n",
    "        if len(pre_transfer_rows) > 0:\n",
    "            # Get the last pre-transfer elo value (chronologically last)\n",
    "            last_pre_transfer_elo = pre_transfer_rows['team_elo_from_club_elo'].iloc[-1]\n",
    "            # Calculate delta for post-transfer rows with non-null elo values\n",
    "            post_transfer_mask = (\n",
    "                (df['transfer_id'] == transfer_id) & \n",
    "                (df['is_post_transfer']) &\n",
    "                (df['team_elo_from_club_elo'].notna())\n",
    "            )\n",
    "            df.loc[post_transfer_mask, 'delta_elo_post_transfer'] = (\n",
    "                df.loc[post_transfer_mask, 'team_elo_from_club_elo'] - last_pre_transfer_elo\n",
    "            )\n",
    "    return df"
   ]
  },
  {
   "cell_type": "code",
   "execution_count": 200,
   "metadata": {},
   "outputs": [],
   "source": [
    "df = calculate_elo_delta_feature(df)"
   ]
  },
  {
   "cell_type": "code",
   "execution_count": 188,
   "metadata": {},
   "outputs": [],
   "source": [
    "def add_team_delta_features(\n",
    "    df: pd.DataFrame,\n",
    "    team_stats_dfs: dict,\n",
    "    feature_df_mapping: dict\n",
    ") -> pd.DataFrame:\n",
    "    \"\"\"\n",
    "    Add team delta features to the test match logs dataframe.\n",
    "    \n",
    "    This function calculates the difference between post-transfer team stats \n",
    "    and pre-transfer team stats for the same season preceding the transfer.\n",
    "    \n",
    "    Parameters:\n",
    "    -----------\n",
    "    df : pd.DataFrame\n",
    "        The test match logs dataframe with transfer information\n",
    "    team_stats_dfs : dict\n",
    "        Dictionary mapping stat type names to their corresponding dataframes\n",
    "        e.g., {'shooting': shooting_df, 'standard': standard_df}\n",
    "    feature_df_mapping : dict\n",
    "        Dictionary mapping feature names to the dataframe they should be sourced from\n",
    "        e.g., {'goals': 'standard', 'shots': 'shooting', 'assists': 'standard'}\n",
    "        \n",
    "    Returns:\n",
    "    --------\n",
    "    pd.DataFrame\n",
    "        The original dataframe with added delta feature columns\n",
    "    \"\"\"\n",
    "    \n",
    "    result_df = df.copy()\n",
    "    for feature in feature_df_mapping.keys():\n",
    "        result_df[f'{feature}_delta'] = pd.NA\n",
    "    \n",
    "    for _, transfer_group in result_df.groupby('transfer_id'):\n",
    "        \n",
    "        pre_transfer_matches = transfer_group[transfer_group['is_pre_transfer'] == True]\n",
    "        post_transfer_matches = transfer_group[transfer_group['is_post_transfer'] == True]\n",
    "        \n",
    "        # Skip if we don't have both pre and post transfer matches\n",
    "        if pre_transfer_matches.empty or post_transfer_matches.empty:\n",
    "            continue\n",
    "        pre_transfer_sample = pre_transfer_matches.iloc[0]\n",
    "        post_transfer_sample = post_transfer_matches.iloc[0]\n",
    "        reference_season = pre_transfer_sample['season']\n",
    "        pre_transfer_league = pre_transfer_sample['league']\n",
    "        pre_transfer_team = pre_transfer_sample['team']\n",
    "        post_transfer_league = post_transfer_sample['league']\n",
    "        post_transfer_team = post_transfer_sample['team']\n",
    "        \n",
    "        delta_values = {}\n",
    "        \n",
    "        for feature, df_name in feature_df_mapping.items():\n",
    "            if df_name not in team_stats_dfs:\n",
    "                print(f\"Warning: Dataframe '{df_name}' not found in team_stats_dfs\")\n",
    "                delta_values[f'{feature}_delta'] = pd.NA\n",
    "                continue\n",
    "                \n",
    "            stats_df = team_stats_dfs[df_name]\n",
    "            \n",
    "            if feature not in stats_df.columns:\n",
    "                print(f\"Warning: Feature '{feature}' not found in '{df_name}' dataframe\")\n",
    "                delta_values[f'{feature}_delta'] = pd.NA\n",
    "                continue\n",
    "            \n",
    "            pre_team_mask = (\n",
    "                (stats_df['league'] == pre_transfer_league) &\n",
    "                (stats_df['season'] == reference_season) &\n",
    "                (stats_df['team_name'] == pre_transfer_team)\n",
    "            )\n",
    "            pre_team_matches = stats_df[pre_team_mask]\n",
    "            \n",
    "            post_team_mask = (\n",
    "                (stats_df['league'] == post_transfer_league) &\n",
    "                (stats_df['season'] == reference_season) &\n",
    "                (stats_df['team_name'] == post_transfer_team)\n",
    "            )\n",
    "            post_team_matches = stats_df[post_team_mask]\n",
    "            \n",
    "            # Calculate delta (post - pre)\n",
    "            if not pre_team_matches.empty and not post_team_matches.empty:\n",
    "                pre_team_stat = pre_team_matches[feature].iloc[0]\n",
    "                post_team_stat = post_team_matches[feature].iloc[0]\n",
    "                delta_values[f'{feature}_delta'] = post_team_stat - pre_team_stat\n",
    "            else:\n",
    "                delta_values[f'{feature}_delta'] = pd.NA\n",
    "        \n",
    "        # Apply the calculated deltas to all rows in this transfer group\n",
    "        for delta_feature, delta_value in delta_values.items():\n",
    "            result_df.loc[transfer_group.index, delta_feature] = delta_value\n",
    "    \n",
    "    return result_df"
   ]
  },
  {
   "cell_type": "code",
   "execution_count": 189,
   "metadata": {},
   "outputs": [],
   "source": [
    "standard_df = pd.read_csv(\"team_stats_standard_20250530.csv\")\n",
    "shooting_df = pd.read_csv(\"team_stats_shooting_20250530.csv\")"
   ]
  },
  {
   "cell_type": "code",
   "execution_count": 175,
   "metadata": {},
   "outputs": [],
   "source": [
    "team_stats_dfs = {\n",
    "    'standard': standard_df,\n",
    "    'shooting': shooting_df\n",
    "}\n",
    "\n",
    "feature_df_mapping = {\n",
    "    'goals_per90': 'standard', # Use goals from standard stats since it's more complete\n",
    "    'goals_assists_per90': 'standard',\n",
    "    'xg_per90' : 'standard',\n",
    "    'shots_per90': 'shooting',\n",
    "    'shots_on_target_per90': 'shooting',\n",
    "    'average_shot_distance' : 'shooting',\n",
    "    \"xg_assist_per90\" : \"standard\",\n",
    "    \"possession\" : \"standard\"   \n",
    "}"
   ]
  },
  {
   "cell_type": "code",
   "execution_count": 190,
   "metadata": {},
   "outputs": [],
   "source": [
    "result_df = add_team_delta_features(df, team_stats_dfs, feature_df_mapping)"
   ]
  },
  {
   "cell_type": "code",
   "execution_count": 111,
   "metadata": {},
   "outputs": [
    {
     "data": {
      "text/plain": [
       "Index(['date', 'dayofweek', 'round', 'venue', 'result', 'team', 'opponent',\n",
       "       'game_started', 'position', 'minutes', 'goals', 'assists', 'pens_made',\n",
       "       'pens_att', 'shots', 'shots_on_target', 'cards_yellow', 'cards_red',\n",
       "       'touches', 'tackles', 'interceptions', 'blocks', 'xg', 'npxg',\n",
       "       'xg_assist', 'sca', 'gca', 'passes_completed', 'passes', 'passes_pct',\n",
       "       'progressive_passes', 'carries', 'progressive_carries', 'take_ons',\n",
       "       'take_ons_won', 'player_name', 'player_id', 'stat_type', 'league',\n",
       "       'is_mid_season_transfer', 'season', 'comp', 'fouls', 'fouled',\n",
       "       'offsides', 'crosses', 'tackles_won', 'own_goals', 'pens_won',\n",
       "       'pens_conceded', 'transfer_id', 'transfer_date', 'from_club', 'to_club',\n",
       "       'is_post_transfer', 'is_pre_transfer', 'days_since_transfer',\n",
       "       'match_number_after_transfer', 'team_elo_from_club_elo',\n",
       "       'delta_elo_post_transfer', 'goals_per90_delta',\n",
       "       'goals_assists_per90_delta', 'xg_per90_delta', 'shots_per90_delta',\n",
       "       'shots_on_target_per90_delta', 'average_shot_distance_delta',\n",
       "       'xg_assist_per90_delta', 'possession_delta'],\n",
       "      dtype='object')"
      ]
     },
     "execution_count": 111,
     "metadata": {},
     "output_type": "execute_result"
    }
   ],
   "source": [
    "result_df.columns"
   ]
  },
  {
   "cell_type": "code",
   "execution_count": 194,
   "metadata": {},
   "outputs": [],
   "source": [
    "final_df = df_odds_test.merge(result_df[[\"date\",\"player_name\",'from_club', 'to_club','delta_elo_post_transfer', 'goals_per90_delta',\n",
    "       'goals_assists_per90_delta', 'xg_per90_delta', 'shots_per90_delta','season',\n",
    "       'shots_on_target_per90_delta', 'average_shot_distance_delta',\"round\",\"league\",\n",
    "       'xg_assist_per90_delta', 'possession_delta']], on=[\"date\", \"player_name\",\"round\",\"league\"], how=\"left\")"
   ]
  },
  {
   "cell_type": "code",
   "execution_count": 197,
   "metadata": {},
   "outputs": [
    {
     "data": {
      "text/plain": [
       "4282"
      ]
     },
     "execution_count": 197,
     "metadata": {},
     "output_type": "execute_result"
    }
   ],
   "source": [
    "len(final_df[(final_df[\"delta_elo_post_transfer\"].notna()) & (final_df[\"is_post_transfer_match\"] == True)])"
   ]
  },
  {
   "cell_type": "code",
   "execution_count": null,
   "metadata": {},
   "outputs": [
    {
     "data": {
      "text/plain": [
       "season\n",
       "2023-2024    8111\n",
       "2022-2023    6927\n",
       "2024-2025    6372\n",
       "2021-2022    4145\n",
       "Name: count, dtype: int64"
      ]
     },
     "execution_count": 202,
     "metadata": {},
     "output_type": "execute_result"
    }
   ],
   "source": [
    "final_df[(final_df[\"delta_elo_post_transfer\"].isna())  & (final_df[\"is_post_transfer_match\"] == True)][\"season\"].value_counts()"
   ]
  }
 ],
 "metadata": {
  "kernelspec": {
   "display_name": "pricing-VInmSPnk-py3.10",
   "language": "python",
   "name": "python3"
  },
  "language_info": {
   "codemirror_mode": {
    "name": "ipython",
    "version": 3
   },
   "file_extension": ".py",
   "mimetype": "text/x-python",
   "name": "python",
   "nbconvert_exporter": "python",
   "pygments_lexer": "ipython3",
   "version": "3.10.12"
  }
 },
 "nbformat": 4,
 "nbformat_minor": 2
}
